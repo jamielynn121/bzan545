{
 "cells": [
  {
   "cell_type": "markdown",
   "metadata": {},
   "source": [
    "# Data Manipulation\n",
    "\n",
    "Regardless of data types, data can be represented as numerical arrays (possibly multi-dimensional array). \n",
    "For example,\n",
    "* Image can be stored as a two dimensional pixel arrays.\n",
    "* Text can be a one dimensional array of charcter codes.\n",
    "* Time series data can be stored in a numeric array, where values denote amount and indices denote timestamps.\n",
    "\n",
    "For Python to be a suitable language for data science, it should provide efficient storage and manipulation \n",
    "of numercial arrays. Python has a standard data type for array of data, **_list_**. However, due to its _dynamically typed_ nature, data manipulation using such a standard data type is **extremely** inefficient. For this reason, Python offers two specialized tools (i.e., modules) to store and operate on data as numerical arrays.\n",
    "\n",
    "### Statically Typed vs Dynamically Typed\n",
    "In statically typed languages such as **C/C++, Java, ** and **Scala**, a variable is defined and used for a type only, and cannot be used for different types.\n",
    "\n",
    "```c\n",
    "/* C code version */\n",
    "int sum = 0;\n",
    "for (int i=1; i<=100; i++) \n",
    "    sum += i;\n",
    "printf(\"Sum of numbers between one and hundred is %d\\n\", sum);\n",
    "```\n",
    "\n",
    "```python\n",
    "# Python code version\n",
    "sum = 0\n",
    "for i in range(1,101):\n",
    "    sum += i\n",
    "    \n",
    "print(\"Sum of numbers between one and hundred is %d\\n\", sum)\n",
    "```\n",
    "\n",
    "Q: What is the main difference between the two language?\n",
    "\n",
    "Unlike in a statically typed language, a variable can be used for any type even after it is declared and used. Consider the following:\n",
    "\n",
    "```c\n",
    "int c_var = 2;\n",
    "c_var = c_var * 3.1;\n",
    "\n",
    "/* c_var? */\n",
    "```\n",
    "\n",
    "```python\n",
    "p_var = 2\n",
    "p_var = p_var * 3.1\n",
    "\n",
    "#p_var?\n",
    "```\n",
    "\n",
    "And consider this too:\n",
    "\n",
    "```c\n",
    "int c_var = two;\n",
    "c_var = \"dos\";\n",
    "\n",
    "/* Is this valid? */\n",
    "```\n",
    "\n",
    "```python\n",
    "p_var = 2\n",
    "p_var = \"two\"\n",
    "\n",
    "#Is this valid?\n",
    "\n",
    "#What about this?\n",
    "\n",
    "p_var = 2\n",
    "p_var = p_var * \"hello\"\n",
    "```\n",
    "\n",
    "As demonstrated, Python, a dynamically typed language, is very convenient to use. In particular, every Python type is instantiated an object and the type is resolved during runtime by the interpreter.\n",
    "</p>\n",
    "\n",
    "<img src=\"./images/c_vs_python.png\" width=\"300\" height=\"300\" />\n",
    "\n",
    "</p>\n",
    "\n",
    "Consider the following closed box analogy.\n",
    "\n",
    "<img src=\"./images/variable_box.png\" width=\"300\" height=\"300\" />\n",
    "\n",
    "\n",
    "However, remember this flexibility comes at a price. \n",
    "* Slow Speed: For every data object, its type is resolved and the proper operation is determined. \n",
    "* Increased Ambiguity: If variables are not properly used and controled, unexpected results (_side effects_) may occur.\n",
    "\n",
    "### Efficient data manipulation at the cost of flexibility\n",
    "\n",
    "```python\n",
    "lvar = list(range(10))\n",
    "lvar\n",
    "[0, 1, 2, 3, 4, 5, 6, 7, 8, 9]\n",
    "ltype = [type(i) for i in lvar]\n",
    "ltype\n",
    "[<type 'int'>, <type 'int'>, <type 'int'>, <type 'int'>, <type 'int'>, <type 'int'>, <type 'int'>, <type 'int'>, <type 'int'>, <type 'int'>]\n",
    "```\n",
    "\n",
    "As we learned, a Python _list_ can contain multiple types as elements.\n",
    "\n",
    "```python\n",
    "lvar = ['Hi', 2, 3+3j, 3.14, False]\n",
    "ltype = [type(i) for i in lvar]\n",
    "ltype\n",
    "[<type 'str'>, <type 'int'>, <type 'complex'>, <type 'float'>, <type 'bool'>]\n",
    "```\n",
    "\n",
    "Again, this flexibility is possible due to the dynamic typed nature of Python. Imagine, however, data manipulation on Python _lists_. For each operation, the type of each data element needs to be checked. But we are mostly interested in numbers as data scientists. We want to include numeric values of the same type in arrays (1D, 2D, or higher).\n",
    "\n",
    "To address this issue, Python introduced a very efficient data manipulation module called **_numpy_**, which provides arrays of the same type along with very useful functionalities. Consider the following figure.\n",
    "\n",
    "\n",
    "\n",
    "</p>\n",
    "<img src=\"./images/array_vs_list.png\" width=\"600\" height=\"600\" />\n",
    "</p>"
   ]
  },
  {
   "cell_type": "markdown",
   "metadata": {
    "collapsed": true
   },
   "source": []
  },
  {
   "cell_type": "markdown",
   "metadata": {},
   "source": [
    "### NumPy Basic\n",
    "\n",
    "Typically many programmers import _NumPy_ under alias **_np_**.\n",
    "```python\n",
    "import numpy as np\n",
    "```\n",
    "\n",
    "Most of times, you will use a NumPy object defined for an N-dimensional array type called **_ndarray_**, which denotes _N_ dimensional array. It describes the collection of items of the same type. Generally, you can create _ndarray_s using Python _list_ or using built-in _numpy_ functions.\n",
    "\n",
    "```python\n",
    "np_array1 = np.array([1,2,3,4,5,6,7,8,9])\n",
    "np_array2 = np.array(list(range(10)))\n",
    "np_array3 = np.array([1.2, 2.3, 3.8, 4.1], dtype=float32)\n",
    "```\n",
    "\n",
    "_numpy_ can explicitly create a multidimensional array:\n",
    "\n",
    "```python\n",
    "np_matrix = np.array([ [1,2,3], [4,5,6], [7,8,9] ])\n",
    "np_matrix = np.array([range(i,i+3) for i in [1, 4, 7] ])\n",
    "```\n"
   ]
  },
  {
   "cell_type": "code",
   "execution_count": 10,
   "metadata": {
    "collapsed": false
   },
   "outputs": [
    {
     "name": "stdout",
     "output_type": "stream",
     "text": [
      "[[1 2 3]\n",
      " [4 5 6]\n",
      " [7 8 9]]\n"
     ]
    }
   ],
   "source": [
    "import numpy as np\n",
    "np_matrix = np.array([range(i,i+3) for i in [1, 4, 7] ])\n",
    "print np_matrix"
   ]
  },
  {
   "cell_type": "markdown",
   "metadata": {},
   "source": [
    "There are a number of ways to create arrays from scratch.\n",
    "\n",
    "* _numpy.empty_ creates uninitialized array of given type and shape (dimension)\n",
    "\n",
    "**_numpy.empty(shape, dtype = float, order = 'C')_**\n",
    "\n",
    "```python\n",
    "import numpy as np \n",
    "x = np.empty((3,2), dtype = int) \n",
    "print x\n",
    "[[-5764607523034234880 -8070441757610984749]\n",
    " [   72483105078050819    23362437629608794]\n",
    " [-5764607523034234880      853199567065492]]\n",
    "```\n",
    "\n",
    "* _numpy.zeros_ and _numpy.ones_ create an array of specified size and type, filled with zeros and ones, repectively.\n",
    "\n",
    "**_numpy.zeros(shape, dtype = float, order = 'C')_**\n",
    "\n",
    "```python\n",
    "import numpy as np\n",
    "x = np.zeros((3,2), dtype = int) \n",
    "print x\n",
    "[[0 0]\n",
    " [0 0]\n",
    " [0 0]]\n",
    "\n",
    "y = np.ones((3,2), dtype = int) \n",
    "print y\n",
    "[[1 1]\n",
    " [1 1]\n",
    " [1 1]]\n",
    "```\n",
    "\n",
    "* _numpy.full_ creates an array of specified size and type, filled with the given constant value.\n",
    "```python\n",
    "import numpy as np\n",
    "x = np.full((3,5), 3.14)\n",
    "print x\n",
    "[[ 3.14  3.14]\n",
    " [ 3.14  3.14]\n",
    " [ 3.14  3.14]]\n",
    "```\n",
    "\n",
    "* _numpy.arange_ and _numpy.linespace_ are useful to generate an array of values from given interval.\n",
    "\n",
    "```python\n",
    "import numpy as np\n",
    "x = np.arange(0,20,2)\n",
    "print x\n",
    "[ 0  2  4  6  8 10 12 14 16 18]\n",
    "\n",
    "y = np.linspace(0,1,5)\n",
    "print y\n",
    "[ 0.    0.25  0.5   0.75  1.  ]\n",
    "```\n",
    " \n",
    "* _numpy_ offers a number of functions with which you can generate an array of random values.\n",
    "\n",
    "```python\n",
    "import numpy as np\n",
    "x = np.random.random((3,3))\n",
    "\n",
    "y = np.random.normal(0,1,(3,3))\n",
    "\n",
    "z = np.random.randint(0,10,(3,3))\n",
    "```\n",
    "\n",
    "### NumPy Array Attributes\n",
    "NumPy arrays include a number of attributes. Among those, let us consider the following.\n",
    "\n",
    "* _ndim_\n",
    "* _shape_\n",
    "* _size_\n",
    "* _dtype_\n",
    "\n",
    "\n",
    "```python\n",
    "import numpy as np\n",
    "x = np.full((3,5), 3.14)\n",
    "print x\n",
    "[[ 3.14  3.14]\n",
    " [ 3.14  3.14]\n",
    " [ 3.14  3.14]]\n",
    " \n",
    "print(\"ndim: \", x.ndim)\n",
    "('ndim: ', 2)\n",
    "\n",
    "print(\"shape: \", x.shape)\n",
    "('shape: ', (3, 5))\n",
    "\n",
    "print(\"size: \", x.size)\n",
    "('size: ', 15)\n",
    "\n",
    "print(\"type: \", x.dtype)\n",
    "('type: ', dtype('float64'))\n",
    "```\n",
    "\n",
    "### Acessing NumPy Array Elements\n",
    "You can access _ndarray_ elements in two ways:\n",
    "* Indexing: accessing single element\n",
    "* Slicing: accessing sub-arrays\n",
    "\n",
    "#### Indexing is very much like indexing of Python _list_.\n"
   ]
  },
  {
   "cell_type": "code",
   "execution_count": 19,
   "metadata": {
    "collapsed": false
   },
   "outputs": [
    {
     "name": "stdout",
     "output_type": "stream",
     "text": [
      "[0 1 2 3 4 5 6 7 8 9]\n"
     ]
    }
   ],
   "source": [
    "x = np.arange(0,10)\n",
    "print x\n",
    "\n",
    "#print x[0]\n",
    "#print x[3]\n",
    "#print x[-1]\n",
    "#print x[-2]\n"
   ]
  },
  {
   "cell_type": "markdown",
   "metadata": {},
   "source": [
    "Accessing an element in a multi-dimensional array, use comma-separated tuple."
   ]
  },
  {
   "cell_type": "code",
   "execution_count": 23,
   "metadata": {
    "collapsed": false
   },
   "outputs": [
    {
     "name": "stdout",
     "output_type": "stream",
     "text": [
      "[[0 1 2]\n",
      " [3 4 5]\n",
      " [6 7 8]]\n"
     ]
    }
   ],
   "source": [
    "x = np.array([range(i,i+3) for i in [0,3,6]])\n",
    "print x\n",
    "\n",
    "#print x[0,0]\n",
    "#print x[1,2]\n",
    "#print x[2,2]"
   ]
  },
  {
   "cell_type": "markdown",
   "metadata": {},
   "source": [
    "Accessing subarrays is done by designating **_slice_** using **(:)**.\n",
    "\n",
    "**_x[start:end:stepsize]_**\n"
   ]
  },
  {
   "cell_type": "code",
   "execution_count": 25,
   "metadata": {
    "collapsed": false
   },
   "outputs": [
    {
     "name": "stdout",
     "output_type": "stream",
     "text": [
      "[0 1 2 3 4 5 6 7 8 9]\n"
     ]
    }
   ],
   "source": [
    "x=np.arange(0,10)\n",
    "print x\n",
    "\n",
    "#print x[0:10:1]\n",
    "#print x[0:3]\n",
    "#print x[:5:2]\n",
    "#print x[::2]\n",
    "#print x[1::2]\n",
    "#print x[::-1]\n",
    "#print x[5::-2]\n"
   ]
  },
  {
   "cell_type": "markdown",
   "metadata": {},
   "source": [
    "For a multidimensional array, use this colon notation for each dimension separated by comma.\n",
    "Important thing to remember is single colon (:) denotes **everything**.\n",
    "\n",
    "#https://en.wikipedia.org/wiki/Heights_of_presidents_and_presidential_candidates_of_the_United_States"
   ]
  },
  {
   "cell_type": "code",
   "execution_count": 35,
   "metadata": {
    "collapsed": false
   },
   "outputs": [
    {
     "name": "stdout",
     "output_type": "stream",
     "text": [
      "[[ 0  1  2  3  4]\n",
      " [ 5  6  7  8  9]\n",
      " [10 11 12 13 14]\n",
      " [15 16 17 18 19]]\n",
      "\n",
      "[ 0  5 10 15]\n",
      "[0 1 2 3 4]\n",
      "[[ 5  6  7  8  9]\n",
      " [15 16 17 18 19]]\n",
      "[[19 18 17 16 15]\n",
      " [14 13 12 11 10]\n",
      " [ 9  8  7  6  5]\n",
      " [ 4  3  2  1  0]]\n",
      "[[ 0  2  4]\n",
      " [ 5  7  9]\n",
      " [10 12 14]]\n"
     ]
    }
   ],
   "source": [
    "x = np.array([range(i,i+5) for i in [0, 5, 10, 15]])\n",
    "\n",
    "print x\n",
    "print \"\"\n",
    "#print x[:,0]   \n",
    "#print x[0,:] \n",
    "#print x[1:5:2,:]\n",
    "#print x[::-1, ::-1]\n",
    "#print x[:3,::2]\n"
   ]
  },
  {
   "cell_type": "markdown",
   "metadata": {},
   "source": [
    "### UFunc and Vectorized Computation\n",
    "\n",
    "Again, Python is inherently sluggish language due to dynamic type checking. Consider the following code borrowed from \n",
    "**_Python Data Science Handbook_** by Jake vanderPlas."
   ]
  },
  {
   "cell_type": "code",
   "execution_count": 97,
   "metadata": {
    "collapsed": false
   },
   "outputs": [
    {
     "name": "stdout",
     "output_type": "stream",
     "text": [
      "100 loops, best of 3: 5.3 ms per loop\n"
     ]
    }
   ],
   "source": [
    "np.random.seed(0)\n",
    "\n",
    "def compute_reciprocals(values):\n",
    "    output = np.empty(values.size)\n",
    "    for i in range(values.size):\n",
    "        output[i] = 1.0 / values[i]\n",
    "    return output\n",
    "\n",
    "#values = np.random.randint(1,10,size=5)\n",
    "#compute_reciprocals(values)\n",
    "\n",
    "big_array = np.random.randint(1,100,1000000)\n",
    "#timeit compute_reciprocals(big_array)\n",
    "%timeit y = 1.0 / big_array "
   ]
  },
  {
   "cell_type": "markdown",
   "metadata": {},
   "source": [
    "NumPy provides a mechanism that treats all array elements equally (kind of statically typed). This is also known as **_vectorized_** operation. NumPy offers a number of vectorized functions called **_UFunc_**. Also basic Python operators are also overloaded to be UFunc compliant."
   ]
  },
  {
   "cell_type": "code",
   "execution_count": 49,
   "metadata": {
    "collapsed": false
   },
   "outputs": [
    {
     "name": "stdout",
     "output_type": "stream",
     "text": [
      "('x =', array([0, 1, 2, 3, 4, 5, 6, 7, 8, 9]))\n",
      "('x + 1=', array([ 1,  2,  3,  4,  5,  6,  7,  8,  9, 10]))\n",
      "('x - 1=', array([-1,  0,  1,  2,  3,  4,  5,  6,  7,  8]))\n",
      "('x * -1=', array([ 0, -1, -2, -3, -4, -5, -6, -7, -8, -9]))\n",
      "('x * 3=', array([ 0,  3,  6,  9, 12, 15, 18, 21, 24, 27]))\n",
      "('x / 3=', array([0, 0, 0, 1, 1, 1, 2, 2, 2, 3]))\n",
      "('x ** 2=', array([ 0,  1,  4,  9, 16, 25, 36, 49, 64, 81]))\n",
      "('x % 2=', array([0, 1, 0, 1, 0, 1, 0, 1, 0, 1]))\n",
      "[]\n",
      "\n",
      "('x + x=', array([ 0,  2,  4,  6,  8, 10, 12, 14, 16, 18]))\n",
      "('x - 1=', array([-1,  0,  1,  2,  3,  4,  5,  6,  7,  8]))\n",
      "('x * -1=', array([ 0, -1, -2, -3, -4, -5, -6, -7, -8, -9]))\n",
      "('x * 3=', array([ 0,  3,  6,  9, 12, 15, 18, 21, 24, 27]))\n",
      "('x / 3=', array([0, 0, 0, 1, 1, 1, 2, 2, 2, 3]))\n",
      "('x ** 2=', array([ 0,  1,  4,  9, 16, 25, 36, 49, 64, 81]))\n",
      "('x % 2=', array([0, 1, 0, 1, 0, 1, 0, 1, 0, 1]))\n"
     ]
    }
   ],
   "source": [
    "x = np.arange(10)\n",
    "print(\"x =\",x)\n",
    "print(\"x + 1=\", x+1)\n",
    "print(\"x - 1=\", x-1)\n",
    "print(\"x * -1=\", x*-1)\n",
    "print(\"x * 3=\", x*3)\n",
    "print(\"x / 3=\", x/3)\n",
    "print(\"x ** 2=\", x**2)\n",
    "print(\"x % 2=\", x%2)\n",
    "\n",
    "print(\"x + x=\",np.add(x,x))\n",
    "print(\"x - 1=\", np.subtract(x,1))\n",
    "print(\"x * -1=\", np.negative(x))\n",
    "print(\"x * 3=\", np.multiply(x,3))\n",
    "print(\"x / 3=\", np.divide(x,3))\n",
    "print(\"x ** 2=\", np.power(x,2))\n",
    "print(\"x % 2=\", np.mod(x,2))"
   ]
  },
  {
   "cell_type": "markdown",
   "metadata": {
    "collapsed": true
   },
   "source": [
    "#### Other Math UFuncs\n",
    "\n",
    "* np.abs(x) or np.absolute(x)\n",
    "* np.sin(x)/np.arcsin(x), np.cos(x)/np.arccos(x), np.tan(x)/np.arctan(x)\n",
    "* np.exp(x), np.log(x), np.log2(x), np.log10(x)\n",
    "* And more ... (look for special functions of your need. There are many!!!)\n",
    "\n"
   ]
  },
  {
   "cell_type": "code",
   "execution_count": 22,
   "metadata": {
    "collapsed": false
   },
   "outputs": [
    {
     "name": "stdout",
     "output_type": "stream",
     "text": [
      "\n",
      "[[ 0.62523077 -0.80882751]\n",
      " [-0.39325258 -0.7331158 ]\n",
      " [ 0.99934665  0.92098926]]\n",
      "\n",
      "[[ 0.51606817  0.18185241]\n",
      " [-0.51779407  0.27664684]\n",
      " [ 0.95817964  0.77500923]]\n"
     ]
    }
   ],
   "source": [
    "x = np.random.normal(0,2,(3,2))\n",
    "y = np.random.normal(0,2,(3,2))\n",
    "\n",
    "\n",
    "print\n",
    "print(np.sin(x))\n",
    "print\n",
    "print(np.log(np.abs(x+1)))\n",
    "\n",
    "\n"
   ]
  },
  {
   "cell_type": "markdown",
   "metadata": {},
   "source": [
    "#### Aggregation\n",
    "\n",
    "To compute summary statistics of a large numeric array is probably a first step for many data scientists. Numpy provides useful aggregate UFuncs for this purpose.\n",
    "\n",
    "* np.mean(), np.median()\n",
    "* np.prod()\n",
    "* np.std(), np.var()\n",
    "* np.min(), np.argmin()\n",
    "* np.max(), np.argmax()\n",
    "* np.quantile()\n",
    "\n",
    "Our example, *foreast cover type*  includes observations of 30m x 30m patches in four wilderness areas located in the Roosevelt National Forest of northern Colorado. Each observation is a 30m x 30m patch. The seven forest cover types are:\n",
    "\n",
    "1. Spruce/Fir\n",
    "2. Lodgepole Pine\n",
    "3. Ponderosa Pine\n",
    "4. Cottonwood/Willow\n",
    "5. Aspen\n",
    "6. Douglas-fir\n",
    "7. Krummholz\n",
    "\n",
    "[Data can be downloaded frome here (Kaggle site)](https://www.kaggle.com/c/forest-cover-type-prediction/data)"
   ]
  },
  {
   "cell_type": "code",
   "execution_count": 1,
   "metadata": {
    "collapsed": false
   },
   "outputs": [
    {
     "name": "stdout",
     "output_type": "stream",
     "text": [
      "Index([u'Id', u'Elevation', u'Aspect', u'Slope',\n",
      "       u'Horizontal_Distance_To_Hydrology', u'Vertical_Distance_To_Hydrology',\n",
      "       u'Horizontal_Distance_To_Roadways', u'Hillshade_9am', u'Hillshade_Noon',\n",
      "       u'Hillshade_3pm', u'Horizontal_Distance_To_Fire_Points',\n",
      "       u'Wilderness_Area1', u'Wilderness_Area2', u'Wilderness_Area3',\n",
      "       u'Wilderness_Area4', u'Soil_Type1', u'Soil_Type2', u'Soil_Type3',\n",
      "       u'Soil_Type4', u'Soil_Type5', u'Soil_Type6', u'Soil_Type7',\n",
      "       u'Soil_Type8', u'Soil_Type9', u'Soil_Type10', u'Soil_Type11',\n",
      "       u'Soil_Type12', u'Soil_Type13', u'Soil_Type14', u'Soil_Type15',\n",
      "       u'Soil_Type16', u'Soil_Type17', u'Soil_Type18', u'Soil_Type19',\n",
      "       u'Soil_Type20', u'Soil_Type21', u'Soil_Type22', u'Soil_Type23',\n",
      "       u'Soil_Type24', u'Soil_Type25', u'Soil_Type26', u'Soil_Type27',\n",
      "       u'Soil_Type28', u'Soil_Type29', u'Soil_Type30', u'Soil_Type31',\n",
      "       u'Soil_Type32', u'Soil_Type33', u'Soil_Type34', u'Soil_Type35',\n",
      "       u'Soil_Type36', u'Soil_Type37', u'Soil_Type38', u'Soil_Type39',\n",
      "       u'Soil_Type40', u'Cover_Type'],\n",
      "      dtype='object')\n",
      "\n",
      "15120\n",
      "3849 1863\n",
      "2752.0\n",
      "2376.0\n"
     ]
    },
    {
     "data": {
      "text/plain": [
       "<matplotlib.text.Text at 0x119d62310>"
      ]
     },
     "execution_count": 1,
     "metadata": {},
     "output_type": "execute_result"
    },
    {
     "data": {
      "image/png": "[encoded data removed]",
      "text/plain": [
       "<matplotlib.figure.Figure at 0x119cb4c10>"
      ]
     },
     "metadata": {},
     "output_type": "display_data"
    }
   ],
   "source": [
    "%matplotlib inline\n",
    "import pandas as pd\n",
    "import numpy as np\n",
    "import matplotlib.pyplot as plt\n",
    "import seaborn\n",
    "seaborn.set()\n",
    "\n",
    "data = pd.read_csv('data/forest.csv')\n",
    "print data.columns\n",
    "print\n",
    "elevation = np.array(data['Elevation'])\n",
    "print elevation.size\n",
    "print elevation.max(), elevation.min()\n",
    "print np.median(elevation)\n",
    "print np.percentile(elevation,25)\n",
    "\n",
    "plt.hist(elevation, 100, color='blue',alpha=0.5)\n",
    "plt.title('Elevation Distribution of Colorado Forest')\n",
    "plt.xlabel('Elevation (ft)')\n",
    "plt.ylabel('Number')\n"
   ]
  },
  {
   "cell_type": "markdown",
   "metadata": {},
   "source": [
    "### Broadcasting: Odd Concept But Extremely Useful in Practice\n",
    "\n",
    "Suppose you have two arrays of differnt sizes. What if you want to use the smaller array multiple times to perform some arithmetic operations on the larger array? **NumPy** offers a mechanism for this purpose: **_broadcasting_**.\n",
    "\n",
    "More formally, **_broadcasting_** is a way to apply binary UFuncs (addition, subtraction, multiplication, etc.) on arrays of different sizes."
   ]
  },
  {
   "cell_type": "code",
   "execution_count": 66,
   "metadata": {
    "collapsed": false
   },
   "outputs": [
    {
     "name": "stdout",
     "output_type": "stream",
     "text": [
      "('x=', array([[0, 1, 2],\n",
      "       [3, 4, 5],\n",
      "       [6, 7, 8]]))\n",
      "\n",
      "('1 + x =', array([[1, 2, 3],\n",
      "       [4, 5, 6],\n",
      "       [7, 8, 9]]))\n"
     ]
    }
   ],
   "source": [
    "import numpy as np\n",
    "x = np.array([range(i,i+3) for i in [0,3,6]])\n",
    "print(\"x=\",x)\n",
    "print\n",
    "print(\"1 + x =\", x + 1)\n",
    "\n",
    "# Or we can do\n",
    "#print ( x + np.ones((3,3), dtype=int))"
   ]
  },
  {
   "cell_type": "code",
   "execution_count": 67,
   "metadata": {
    "collapsed": false
   },
   "outputs": [
    {
     "name": "stdout",
     "output_type": "stream",
     "text": [
      "[[0 1 2]\n",
      " [3 4 5]\n",
      " [6 7 8]]\n",
      "\n",
      "[1 2 1]\n",
      "\n",
      "('x - y', array([[-1, -1,  1],\n",
      "       [ 2,  2,  4],\n",
      "       [ 5,  5,  7]]))\n"
     ]
    }
   ],
   "source": [
    "import numpy as np\n",
    "x = np.array([range(i,i+3) for i in [0,3,6]])\n",
    "y = np.array([1, 2, 1])\n",
    "\n",
    "print(x)\n",
    "print\n",
    "print(y)\n",
    "print\n",
    "print(\"x - y\", x-y)"
   ]
  },
  {
   "cell_type": "code",
   "execution_count": 78,
   "metadata": {
    "collapsed": false
   },
   "outputs": [
    {
     "name": "stdout",
     "output_type": "stream",
     "text": [
      "('x+x=', array([0, 2, 4]))\n"
     ]
    }
   ],
   "source": [
    "import numpy as np\n",
    "x = np.arange(3)\n",
    "\n",
    "print('x+x=',x+x)\n",
    "\n",
    "#Now let's compute x+x'\n",
    "#print('x+x\\'=',x+x[:,np.newaxis])\n"
   ]
  },
  {
   "cell_type": "markdown",
   "metadata": {},
   "source": [
    "#### Broadcasting Rules\n",
    "When two NumPy arrays are passed to a UFunc:\n",
    "\n",
    "1. If the arrays do not have the same rank, pad the shape of the lower rank array with _ones_ until both shapes have the same length.\n",
    "2. If the shape of the two arrays are different, the array with shape _ones_ is stretched.\n",
    "3. If in any dimension the sizes are different and neighter is _one_, an error occurs.\n",
    "\n",
    "</p>\n",
    "<img src=\"./images/numpy_broadcasting.png\" width=\"600\" height=\"600\" />\n",
    "</p>"
   ]
  },
  {
   "cell_type": "code",
   "execution_count": 94,
   "metadata": {
    "collapsed": false
   },
   "outputs": [
    {
     "name": "stdout",
     "output_type": "stream",
     "text": [
      "[[ 1.  1.]\n",
      " [ 2.  2.]\n",
      " [ 3.  3.]]\n"
     ]
    }
   ],
   "source": [
    "import numpy as np\n",
    "\n",
    "#example 1\n",
    "#M = np.ones((2,3))\n",
    "#a = np.arange(3)\n",
    "#print M + a\n",
    "\n",
    "#example 2\n",
    "#a = np.arange(3).reshape((3,1))  # same as a = np.arange(3)[:, np.newaxis]\n",
    "#b = np.arange(3)\n",
    "#print a + b\n",
    "\n",
    "#example 3\n",
    "M = np.ones((3,2))\n",
    "a = np.arange(3)\n",
    "\n",
    "print M + a[:, np.newaxis]"
   ]
  },
  {
   "cell_type": "markdown",
   "metadata": {},
   "source": [
    "#### Examples\n",
    "* data centering\n",
    "* distance map\n",
    "\n",
    "</p>\n",
    "<img src=\"./images/route66.png\" width=\"600\" height=\"600\" />\n",
    "</p>\n",
    "Let’s construct a table of distances (in miles) between cities on the Route 66 from Chicago to LA. \n",
    "1. Chicago, 0\n",
    "2. Springfield, 198\n",
    "3. Saint-Louis, 303\n",
    "4. Tulsa, 736\n",
    "5. Oklahoma City, 871\n",
    "6. Amarillo, 1175\n",
    "7. Santa Fe, 1475\n",
    "8. Albuquerque, 1544\n",
    "9. Flagstaff, 1913\n",
    "10. Los Angeles, 2448"
   ]
  },
  {
   "cell_type": "code",
   "execution_count": 99,
   "metadata": {
    "collapsed": false
   },
   "outputs": [
    {
     "name": "stdout",
     "output_type": "stream",
     "text": [
      "[[   0  198  303  736  871 1175 1475 1544 1913 2448]\n",
      " [ 198    0  105  538  673  977 1277 1346 1715 2250]\n",
      " [ 303  105    0  433  568  872 1172 1241 1610 2145]\n",
      " [ 736  538  433    0  135  439  739  808 1177 1712]\n",
      " [ 871  673  568  135    0  304  604  673 1042 1577]\n",
      " [1175  977  872  439  304    0  300  369  738 1273]\n",
      " [1475 1277 1172  739  604  300    0   69  438  973]\n",
      " [1544 1346 1241  808  673  369   69    0  369  904]\n",
      " [1913 1715 1610 1177 1042  738  438  369    0  535]\n",
      " [2448 2250 2145 1712 1577 1273  973  904  535    0]]\n"
     ]
    }
   ],
   "source": [
    "import numpy as np\n",
    "miles = np.array([0, 198, 303, 736, 871, 1175, 1475, 1544, 1913, 2448])\n",
    "print np.abs((miles - miles[:, np.newaxis]))\n"
   ]
  }
 ],
 "metadata": {
  "kernelspec": {
   "display_name": "Python 2",
   "language": "python",
   "name": "python2"
  },
  "language_info": {
   "codemirror_mode": {
    "name": "ipython",
    "version": 2
   },
   "file_extension": ".py",
   "mimetype": "text/x-python",
   "name": "python",
   "nbconvert_exporter": "python",
   "pygments_lexer": "ipython2",
   "version": "2.7.13"
  }
 },
 "nbformat": 4,
 "nbformat_minor": 2
}
