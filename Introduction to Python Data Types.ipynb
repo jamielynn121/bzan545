{
 "cells": [
  {
   "cell_type": "markdown",
   "metadata": {},
   "source": [
    "# Python Standard Data Types\n",
    "\n",
    "The data you want to store in memory can be of one of many types. Some examples include numeric or string data types. **Python** has defined five standard data types that are found useful for many tasks. You can further create your own data types using these standard data types as building blocks.  \n",
    "\n",
    "A data type is abstraction of **data** and **operation**, which is equivalent to **object** of the object oriented language. In fact, **Python** is an object oriented language. Since it is beyond the scope of this crash Python course, let us not further dive into concepts of object oriented programming such as *inheritance, polymorphism,* etc. Instead let us simply assume that a Python data type defines not only about data but also **properties** and **functions** that operate on the data (This will become much clearer shortly).\n",
    "\n",
    "For now, just remember that:</p>\n",
    "- A `data type` is abstraction of what you want to represent (*data*) and what you want to do with it (*operation*) \n",
    "- You can operate on an instance of a data type in two different ways: 1) use functions that take the data types as inputs, or \n",
    "2) use the functions that are defined within the types."
   ]
  },
  {
   "cell_type": "markdown",
   "metadata": {},
   "source": [
    "### Object and Data Type"
   ]
  },
  {
   "cell_type": "code",
   "execution_count": 7,
   "metadata": {
    "collapsed": false
   },
   "outputs": [
    {
     "name": "stdout",
     "output_type": "stream",
     "text": [
      "8\n",
      "hi all\n",
      "HI ALL\n",
      "[1, 2, 3, 4]\n"
     ]
    }
   ],
   "source": [
    "a = 3\n",
    "b = 5\n",
    "c = a + b\n",
    "print c\n",
    "\n",
    "s1 = \"hi\"\n",
    "s2 = \" all\"\n",
    "s3 = s1 + s2\n",
    "print s3\n",
    "\n",
    "def concat(s1,s2):\n",
    "    return s1.upper() + s2.upper();\n",
    "\n",
    "s3 = concat(s1,s2)\n",
    "print s3\n",
    "\n",
    "l = [1, 2, 3]\n",
    "l.append(4)\n",
    "print l"
   ]
  },
  {
   "cell_type": "code",
   "execution_count": 1,
   "metadata": {
    "collapsed": false
   },
   "outputs": [
    {
     "name": "stdout",
     "output_type": "stream",
     "text": [
      "\u0007\n"
     ]
    }
   ],
   "source": [
    "print \"\\a\""
   ]
  },
  {
   "cell_type": "markdown",
   "metadata": {},
   "source": [
    "## The five standard data types of Python are:\n",
    "\n",
    "1. Numbers\n",
    "2. Strings\n",
    "3. List\n",
    "4. Tuple\n",
    "5. Dictionary\n",
    "\n",
    "\n",
    "\n",
    "### Numbers\n",
    "\n",
    "The number data type stores a numeric value, properties, and some functions. For a casual programmer, however, a number data type is just a number such as *integer, float, complex number, etc.* Consider the following.\n",
    "\n",
    "```python\n",
    "\n",
    "a = 100\n",
    "b = 2.1\n",
    "c = 4 + 9j\n",
    "```\n",
    "\n",
    "### Strings\n",
    "\n",
    "Strings are probably the most widely used in Python codes. Strings can be enclosed (delimited) by single or double quotes. Python treats singel quotes and double quotes the same. Creating strings is as simple as assigning a value to a variable.\n",
    "\n",
    "```python\n",
    "string1 = \"Hello World!\"\n",
    "string2 = 'Hmm... Are you all right?'\n",
    "string3 = \"Is this all right?'\n",
    "```\n",
    "\n",
    "**_string3=\"Is this all right?'_** is illegal.  \n",
    "\n",
    "#### **Python** uses backslashes to denote special characters. Some examples include:\n",
    "\n",
    "| Special character| Description|\n",
    "| :-------------: |:-------------:|\n",
    "| \\a      | bell |\n",
    "| \\b     | backspace      |\n",
    "| \\n| new line      |\n",
    "| \\r | carriage return|\n",
    "| \\s | space|\n",
    "| \\t | tab|\n",
    "\n",
    "#### **_len()_** is a built-in function that takes a string as an input and returns the length of the string.\n",
    "\n",
    "\n",
    "#### A multi line string can be created using triple-quotes:\n",
    "\n",
    "```python\n",
    "multi_string = \"\"\"This is the start line of a multi-line string.\n",
    "And this is the second line of the string,\n",
    "and this is the third line of the string.\"\"\"\n",
    "```\n",
    "\n",
    "#### Some useful String functions\n",
    "* s.lower(), s.upper() \n",
    "* s.strip() \n",
    "* s.isalpha()/s.isdigit()/s.isspace()\n",
    "* s.startswith('other'), s.endswith('other') \n",
    "* s.find('other') \n",
    "* s.replace('old', 'new') \n",
    "* s.split('delim') \n",
    "* s.join(list) "
   ]
  },
  {
   "cell_type": "code",
   "execution_count": 21,
   "metadata": {
    "collapsed": false
   },
   "outputs": [
    {
     "name": "stdout",
     "output_type": "stream",
     "text": [
      " hello world \n",
      " HELLO WORLD \n",
      "Hello World\n",
      "no\n",
      "yes\n",
      "3\n",
      " Herro World \n",
      "('my_list =', ['Hello', 'World'])\n",
      "Hello World\n"
     ]
    }
   ],
   "source": [
    "s = \" Hello World \"\n",
    "print s.lower()\n",
    "print s.upper()\n",
    "print s.strip()\n",
    "if s.isalpha():\n",
    "    print \"yes\"\n",
    "else:\n",
    "    print \"no\"\n",
    "\n",
    "if s.startswith(' '):\n",
    "    print \"yes\"\n",
    "else:\n",
    "    print \"no\"\n",
    "    \n",
    "print s.find('ll')\n",
    "\n",
    "print s.replace('ll', 'rr')\n",
    "\n",
    "my_list = s.strip().split(' ')\n",
    "print(\"my_list =\", my_list)\n",
    "print \" \".join(my_list)"
   ]
  },
  {
   "cell_type": "markdown",
   "metadata": {},
   "source": [
    "#### Accessing String Elments and Slices\n",
    "<img src=\"./images/hello.png\" width=\"300\" height=\"300\" />\n",
    "\n",
    "* s[0] is 'H'\n",
    "* s[1:4] is 'ell' \n",
    "* s[1:] is 'ello' \n",
    "* s[:] is 'Hello' \n",
    "\n",
    "The standard zero-based index numbers give easy access to chars near the start of the string. As an alternative, Python uses negative numbers to give easy access to the chars at the end of the string. Negative index numbers count back from the end of the string:\n",
    "\n",
    "* s[-1] is 'o' \n",
    "* s[-4] is 'e'\n",
    "* s[:-3] is 'He' \n",
    "* s[-3:] is 'llo'"
   ]
  },
  {
   "cell_type": "code",
   "execution_count": 6,
   "metadata": {
    "collapsed": false
   },
   "outputs": [
    {
     "name": "stdout",
     "output_type": "stream",
     "text": [
      "both_ends\n",
      "spng\n",
      "Helo\n",
      "\n",
      "xyyz\n",
      "\n",
      "fix_start\n",
      "a**le\n",
      "*rdv*rk\n",
      "oo*le\n",
      "onut\n",
      "\n",
      "mix_up\n",
      "pox mid\n",
      "dig donner\n",
      "spash gnort\n",
      "fizzy perm\n"
     ]
    }
   ],
   "source": [
    "# B. both_ends\n",
    "# Given a string s, return a string made of the first 2\n",
    "# and the last 2 chars of the original string,\n",
    "# so 'spring' yields 'spng'. However, if the string length\n",
    "# is less than 2, return instead the empty string.\n",
    "def both_ends(s):\n",
    "  # +++your code here+++\n",
    "  if len(s) < 2:\n",
    "        return ''\n",
    "  \n",
    "  return s[:2] + s[-2:]\n",
    "\n",
    "\n",
    "# C. fix_start\n",
    "# Given a string s, return a string\n",
    "# where all occurences of its first char have\n",
    "# been changed to '*', except do not change\n",
    "# the first char itself.\n",
    "# e.g. 'babble' yields 'ba**le'\n",
    "# Assume that the string is length 1 or more.\n",
    "# Hint: s.replace(stra, strb) returns a version of string s\n",
    "# where all instances of stra have been replaced by strb.\n",
    "def fix_start(s):\n",
    "  # +++your code here+++\n",
    "  remaining = s[1:]\n",
    "  return remaining.replace(s[0], '*')\n",
    "\n",
    "\n",
    "\n",
    "# D. MixUp\n",
    "# Given strings a and b, return a single string with a and b separated\n",
    "# by a space '<a> <b>', except swap the first 2 chars of each string.\n",
    "# e.g.\n",
    "#   'mix', pod' -> 'pox mid'\n",
    "#   'dog', 'dinner' -> 'dig donner'\n",
    "# Assume a and b are length 2 or more.\n",
    "def mix_up(a, b):\n",
    "  # +++your code here+++\n",
    "  return b[:2]+a[2:] + ' ' + a[:2]+b[2:]\n",
    "  return\n",
    "  \n",
    "  \n",
    "print 'both_ends'\n",
    "print both_ends('spring')\n",
    "print both_ends('Hello')\n",
    "print both_ends('a')\n",
    "print both_ends('xyz')\n",
    "\n",
    "\n",
    "print\n",
    "print 'fix_start'\n",
    "print fix_start('babble')\n",
    "print fix_start('aardvark')\n",
    "print fix_start('google')\n",
    "print fix_start('donut')\n",
    "\n",
    "print\n",
    "print 'mix_up'\n",
    "print mix_up('mix', 'pod')\n",
    "print mix_up('dog', 'dinner')\n",
    "print mix_up('gnash', 'sport')\n",
    "print mix_up('pezzy', 'firm')\n",
    "\n",
    "\n"
   ]
  },
  {
   "cell_type": "markdown",
   "metadata": {},
   "source": [
    "### List \n",
    "\n",
    "Python **_List_** literals are written within square brackets [ ]. Lists are similar to strings in many ways, i.e. you can use the len() function and square brackets [ ] to access elements or slices. However _list_ can include not only strings but also numerics or even any data types. Consider the following.\n",
    "\n",
    "```python\n",
    "names = ['larry', 'moe', 'curly', 'sue']\n",
    "```\n",
    "  \n",
    "  <img src=\"./images/list.png\" width=\"300\" height=\"300\" />\n",
    "  \n",
    "\n",
    "#### _for, in, and List_\n",
    "Python **_for_** works with **_list_**. \n",
    "```python\n",
    "names = ['larry', 'moe', 'curly', 'sue']\n",
    "for name in names:\n",
    "    print name\n",
    "```\n",
    "\n",
    "Another example is:\n",
    "```python\n",
    "seq = range(10)\n",
    "for num in seq:\n",
    "    print num\n",
    "```"
   ]
  },
  {
   "cell_type": "code",
   "execution_count": 23,
   "metadata": {
    "collapsed": false
   },
   "outputs": [],
   "source": [
    "#names = ['larry', 'moe', 'curly', 'sue']\n",
    "#for name in names:\n",
    "#    print name\n",
    "#seq = range(10)\n",
    "#for num in seq:\n",
    "#    print num"
   ]
  },
  {
   "cell_type": "markdown",
   "metadata": {},
   "source": [
    "#### Some useful _list_ functions\n",
    "\n",
    "* list.append(elem)\n",
    "* list.insert(index, elem)\n",
    "* list.extend(list2)\n",
    "* list.index(elem)\n",
    "* list.remove(elem) \n",
    "* list.sort()\n",
    "* list.reverse()\n",
    "* list.pop(index)\n"
   ]
  },
  {
   "cell_type": "code",
   "execution_count": 25,
   "metadata": {
    "collapsed": false
   },
   "outputs": [
    {
     "name": "stdout",
     "output_type": "stream",
     "text": [
      "['larry', 'moe', 'curly', 'sue', 'emily']\n",
      "\n",
      "['joe', 'larry', 'moe', 'curly', 'sue', 'emily']\n",
      "\n",
      "['joe', 'larry', 'moe', 'curly', 'sue', 'emily', 1, 2, 3, 4]\n",
      "\n",
      "4\n",
      "['joe', 'larry', 'moe', 'curly', 'emily', 1, 2, 3, 4]\n",
      "\n",
      "[1, 2, 3, 4, 'curly', 'emily', 'joe', 'larry', 'moe']\n",
      "\n",
      "['moe', 'larry', 'joe', 'emily', 'curly', 4, 3, 2, 1]\n",
      "\n",
      "['moe', 'larry', 'joe', 'curly', 4, 3, 2, 1]\n"
     ]
    }
   ],
   "source": [
    "names = ['larry', 'moe', 'curly', 'sue']\n",
    "names.append('emily')\n",
    "\n",
    "print names\n",
    "print\n",
    "names.insert(0,'joe')\n",
    "\n",
    "print names\n",
    "print\n",
    "\n",
    "names.extend([1,2,3,4])\n",
    "print names\n",
    "print\n",
    "\n",
    "print names.index('sue')\n",
    "\n",
    "names.remove('sue')\n",
    "print names\n",
    "print\n",
    "\n",
    "names.sort()\n",
    "print names\n",
    "print\n",
    "\n",
    "names.reverse()\n",
    "print names\n",
    "print\n",
    "\n",
    "names.pop(3)\n",
    "print names"
   ]
  },
  {
   "cell_type": "code",
   "execution_count": null,
   "metadata": {
    "collapsed": true
   },
   "outputs": [],
   "source": [
    "# A. match_ends\n",
    "# Given a list of strings, return the count of the number of\n",
    "# strings where the string length is 2 or more and the first\n",
    "# and last chars of the string are the same.\n",
    "# Note: python does not have a ++ operator, but += works.\n",
    "def match_ends(words):\n",
    "  # +++your code here+++\n",
    "  return\n",
    "\n",
    "\n",
    "# B. front_x\n",
    "# Given a list of strings, return a list with the strings\n",
    "# in sorted order, except group all the strings that begin with 'x' first.\n",
    "# e.g. ['mix', 'xyz', 'apple', 'xanadu', 'aardvark'] yields\n",
    "# ['xanadu', 'xyz', 'aardvark', 'apple', 'mix']\n",
    "# Hint: this can be done by making 2 lists and sorting each of them\n",
    "# before combining them.\n",
    "def front_x(words):\n",
    "  # +++your code here+++\n",
    "  return\n",
    "\n",
    "\n",
    "# Extract the last element from a tuple -- used for custom sorting below.\n",
    "def last(a):\n",
    "  return a\n",
    "\n",
    "# C. sort_last\n",
    "# Given a list of non-empty tuples, return a list sorted in increasing\n",
    "# order by the last element in each tuple.\n",
    "# e.g. [(1, 7), (1, 3), (3, 4, 5), (2, 2)] yields\n",
    "# [(2, 2), (1, 3), (3, 4, 5), (1, 7)]\n",
    "# Hint: use a custom key= function to extract the last element form each tuple.\n",
    "def sort_last(tuples):\n",
    "  # +++your code here+++\n",
    "  return\n",
    "\n",
    "print 'match_ends'\n",
    "print match_ends(['aba', 'xyz', 'aa', 'x', 'bbb'])  #3\n",
    "print match_ends(['', 'x', 'xy', 'xyx', 'xx'])      #2\n",
    "print match_ends(['aaa', 'be', 'abc', 'hello'])     #1\n",
    "\n",
    "print\n",
    "print 'front_x'\n",
    "print front_x(['bbb', 'ccc', 'axx', 'xzz', 'xaa']) #['xaa', 'xzz', 'axx', 'bbb', 'ccc'])\n",
    "print front_x(['ccc', 'bbb', 'aaa', 'xcc', 'xaa']) #['xaa', 'xcc', 'aaa', 'bbb', 'ccc'])\n",
    "print front_x(['mix', 'xyz', 'apple', 'xanadu', 'aardvark']) #['xanadu', 'xyz', 'aardvark', 'apple', 'mix'])\n",
    "\n",
    "print\n",
    "print 'sort_last'\n",
    "print sort_last([(1, 3), (3, 2), (2, 1)])   #[(2, 1), (3, 2), (1, 3)])\n",
    "print sort_last([(2, 3), (1, 2), (3, 1)])   #[(3, 1), (1, 2), (2, 3)])\n",
    "print sort_last([(1, 7), (1, 3), (3, 4, 5), (2, 2)]) #[(2, 2), (1, 3), (3, 4, 5), (1, 7)])"
   ]
  },
  {
   "cell_type": "markdown",
   "metadata": {},
   "source": [
    "### Dictionary\n",
    "**_Dictionary_** is Python's key/value hash table. The contents of a dict can be created as a series of key:value pairs within braces { }. Alternatively, an \"empty dict\" created by {}, can be appended using [].\n",
    "\n",
    "Strings, numbers, and tuples work as keys, and any type can be a value. Other types may or may not work correctly as keys (strings and tuples work cleanly since they are immutable).\n",
    "\n",
    "\n",
    "```python\n",
    "colors = {'r': 'red', 'g':'green', 'b': 'blue'}\n",
    "# or\n",
    "colors = {}\n",
    "\n",
    "colors['r'] = 'red'\n",
    "colors['g'] = 'green'\n",
    "colors['b'] = 'blue'\n",
    "```"
   ]
  },
  {
   "cell_type": "code",
   "execution_count": 26,
   "metadata": {
    "collapsed": false
   },
   "outputs": [
    {
     "name": "stdout",
     "output_type": "stream",
     "text": [
      "r\n",
      "b\n",
      "g\n",
      "r\n",
      "b\n",
      "g\n",
      "['red', 'blue', 'green']\n",
      "b blue\n",
      "g green\n",
      "r red\n",
      "[('r', 'red'), ('b', 'blue'), ('g', 'green')]\n",
      "r ===> red\n",
      "b ===> blue\n",
      "g ===> green\n"
     ]
    }
   ],
   "source": [
    "colors = {'r': 'red', 'g':'green', 'b': 'blue'}\n",
    "## By default, iterating over a dict iterates over its keys.\n",
    "## Note that the keys are in a random order.\n",
    "  \n",
    "for key in colors: \n",
    "    print key\n",
    "\n",
    "  \n",
    "## More explicit way than above\n",
    "for key in colors.keys(): \n",
    "    print key\n",
    "\n",
    "\n",
    "## Likewise, there's a .values() list of values\n",
    "print colors.values()\n",
    "\n",
    "## Common case -- loop over the keys in sorted order,\n",
    "## accessing each key/value\n",
    "for key in sorted(colors.keys()):\n",
    "    print key, colors[key]\n",
    "  \n",
    "## .items() returns (key, value) tuples\n",
    "print colors.items()  \n",
    "\n",
    "## Or you can loop over items...\n",
    "for k, v in colors.items(): print k, '===>', v\n",
    "  "
   ]
  },
  {
   "cell_type": "markdown",
   "metadata": {},
   "source": [
    "### Mutable vs Immutable Data Types\n",
    "\n",
    "Python objects are divided into two groups: mutable and immutable objects. Mutable objects can be altered whereas immutable objects cannot be. For most non-advanced programmers, this may sound intriguing. Why?\n",
    "\n",
    "* Numerics\n",
    "* String\n",
    "* Tuple\n",
    "\n",
    "Immutable objects cannot be changed but rather return new objects when attempting to update. What does this mean when writing python code?"
   ]
  },
  {
   "cell_type": "code",
   "execution_count": 20,
   "metadata": {
    "collapsed": false
   },
   "outputs": [
    {
     "name": "stdout",
     "output_type": "stream",
     "text": [
      "140728812450200\n",
      "4332599968\n",
      "4346283216\n",
      "140728812450176\n",
      "[5, 6, 99]\n",
      "4346283216\n"
     ]
    }
   ],
   "source": [
    "a = 3\n",
    "b = (1,2,3)\n",
    "l = [5,6,7]\n",
    "\n",
    "print id(a)\n",
    "print id(b)\n",
    "print id(l)\n",
    "\n",
    "a = 4\n",
    "print id(a)\n",
    "\n",
    "l[2] = 99\n",
    "print l\n",
    "print id(l)\n"
   ]
  },
  {
   "cell_type": "code",
   "execution_count": 23,
   "metadata": {
    "collapsed": false
   },
   "outputs": [
    {
     "name": "stdout",
     "output_type": "stream",
     "text": [
      "4347327600\n",
      "(1, 2, [1, 2, 1000], 3)\n",
      "4347327600\n"
     ]
    }
   ],
   "source": [
    "l = [1,2,3]\n",
    "a = (1,2,l,3)\n",
    "\n",
    "print id(a)\n",
    "l[2] = 1000\n",
    "print(a)\n",
    "print id(a)\n",
    "\n",
    "t = (1,2,3)\n",
    "b = (1,2,t,3)\n",
    "\n",
    "#print(b, id(b))\n",
    "#t = (3,4,5)\n",
    "#print(b, id(b))\n",
    "\n",
    "\n",
    "\n"
   ]
  },
  {
   "cell_type": "code",
   "execution_count": 1,
   "metadata": {
    "collapsed": false
   },
   "outputs": [
    {
     "data": {
      "application/json": {
       "cell": {
        "!": "OSMagics",
        "HTML": "Other",
        "SVG": "Other",
        "bash": "Other",
        "capture": "ExecutionMagics",
        "debug": "ExecutionMagics",
        "file": "Other",
        "html": "DisplayMagics",
        "javascript": "DisplayMagics",
        "js": "DisplayMagics",
        "latex": "DisplayMagics",
        "perl": "Other",
        "prun": "ExecutionMagics",
        "pypy": "Other",
        "python": "Other",
        "python2": "Other",
        "python3": "Other",
        "ruby": "Other",
        "script": "ScriptMagics",
        "sh": "Other",
        "svg": "DisplayMagics",
        "sx": "OSMagics",
        "system": "OSMagics",
        "time": "ExecutionMagics",
        "timeit": "ExecutionMagics",
        "writefile": "OSMagics"
       },
       "line": {
        "alias": "OSMagics",
        "alias_magic": "BasicMagics",
        "autocall": "AutoMagics",
        "automagic": "AutoMagics",
        "autosave": "KernelMagics",
        "bookmark": "OSMagics",
        "cat": "Other",
        "cd": "OSMagics",
        "clear": "KernelMagics",
        "colors": "BasicMagics",
        "config": "ConfigMagics",
        "connect_info": "KernelMagics",
        "cp": "Other",
        "debug": "ExecutionMagics",
        "dhist": "OSMagics",
        "dirs": "OSMagics",
        "doctest_mode": "BasicMagics",
        "ed": "Other",
        "edit": "KernelMagics",
        "env": "OSMagics",
        "gui": "BasicMagics",
        "hist": "Other",
        "history": "HistoryMagics",
        "killbgscripts": "ScriptMagics",
        "ldir": "Other",
        "less": "KernelMagics",
        "lf": "Other",
        "lk": "Other",
        "ll": "Other",
        "load": "CodeMagics",
        "load_ext": "ExtensionMagics",
        "loadpy": "CodeMagics",
        "logoff": "LoggingMagics",
        "logon": "LoggingMagics",
        "logstart": "LoggingMagics",
        "logstate": "LoggingMagics",
        "logstop": "LoggingMagics",
        "ls": "Other",
        "lsmagic": "BasicMagics",
        "lx": "Other",
        "macro": "ExecutionMagics",
        "magic": "BasicMagics",
        "man": "KernelMagics",
        "matplotlib": "PylabMagics",
        "mkdir": "Other",
        "more": "KernelMagics",
        "mv": "Other",
        "notebook": "BasicMagics",
        "page": "BasicMagics",
        "pastebin": "CodeMagics",
        "pdb": "ExecutionMagics",
        "pdef": "NamespaceMagics",
        "pdoc": "NamespaceMagics",
        "pfile": "NamespaceMagics",
        "pinfo": "NamespaceMagics",
        "pinfo2": "NamespaceMagics",
        "popd": "OSMagics",
        "pprint": "BasicMagics",
        "precision": "BasicMagics",
        "profile": "BasicMagics",
        "prun": "ExecutionMagics",
        "psearch": "NamespaceMagics",
        "psource": "NamespaceMagics",
        "pushd": "OSMagics",
        "pwd": "OSMagics",
        "pycat": "OSMagics",
        "pylab": "PylabMagics",
        "qtconsole": "KernelMagics",
        "quickref": "BasicMagics",
        "recall": "HistoryMagics",
        "rehashx": "OSMagics",
        "reload_ext": "ExtensionMagics",
        "rep": "Other",
        "rerun": "HistoryMagics",
        "reset": "NamespaceMagics",
        "reset_selective": "NamespaceMagics",
        "rm": "Other",
        "rmdir": "Other",
        "run": "ExecutionMagics",
        "save": "CodeMagics",
        "sc": "OSMagics",
        "set_env": "OSMagics",
        "store": "StoreMagics",
        "sx": "OSMagics",
        "system": "OSMagics",
        "tb": "ExecutionMagics",
        "time": "ExecutionMagics",
        "timeit": "ExecutionMagics",
        "unalias": "OSMagics",
        "unload_ext": "ExtensionMagics",
        "who": "NamespaceMagics",
        "who_ls": "NamespaceMagics",
        "whos": "NamespaceMagics",
        "xdel": "NamespaceMagics",
        "xmode": "BasicMagics"
       }
      },
      "text/plain": [
       "Available line magics:\n",
       "%alias  %alias_magic  %autocall  %automagic  %autosave  %bookmark  %cat  %cd  %clear  %colors  %config  %connect_info  %cp  %debug  %dhist  %dirs  %doctest_mode  %ed  %edit  %env  %gui  %hist  %history  %killbgscripts  %ldir  %less  %lf  %lk  %ll  %load  %load_ext  %loadpy  %logoff  %logon  %logstart  %logstate  %logstop  %ls  %lsmagic  %lx  %macro  %magic  %man  %matplotlib  %mkdir  %more  %mv  %notebook  %page  %pastebin  %pdb  %pdef  %pdoc  %pfile  %pinfo  %pinfo2  %popd  %pprint  %precision  %profile  %prun  %psearch  %psource  %pushd  %pwd  %pycat  %pylab  %qtconsole  %quickref  %recall  %rehashx  %reload_ext  %rep  %rerun  %reset  %reset_selective  %rm  %rmdir  %run  %save  %sc  %set_env  %store  %sx  %system  %tb  %time  %timeit  %unalias  %unload_ext  %who  %who_ls  %whos  %xdel  %xmode\n",
       "\n",
       "Available cell magics:\n",
       "%%!  %%HTML  %%SVG  %%bash  %%capture  %%debug  %%file  %%html  %%javascript  %%js  %%latex  %%perl  %%prun  %%pypy  %%python  %%python2  %%python3  %%ruby  %%script  %%sh  %%svg  %%sx  %%system  %%time  %%timeit  %%writefile\n",
       "\n",
       "Automagic is ON, % prefix IS NOT needed for line magics."
      ]
     },
     "execution_count": 1,
     "metadata": {},
     "output_type": "execute_result"
    }
   ],
   "source": [
    "%lsmagic"
   ]
  }
 ],
 "metadata": {
  "kernelspec": {
   "display_name": "Python 2",
   "language": "python",
   "name": "python2"
  },
  "language_info": {
   "codemirror_mode": {
    "name": "ipython",
    "version": 2
   },
   "file_extension": ".py",
   "mimetype": "text/x-python",
   "name": "python",
   "nbconvert_exporter": "python",
   "pygments_lexer": "ipython2",
   "version": "2.7.13"
  }
 },
 "nbformat": 4,
 "nbformat_minor": 2
}
