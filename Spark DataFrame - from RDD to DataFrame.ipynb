{
 "cells": [
  {
   "cell_type": "markdown",
   "metadata": {},
   "source": [
    "### There are cases when you have to parse data before loading into DataFrame\n",
    "* Data is not of csv format.\n",
    "* Further parsing of data elements is required\n",
    "* ...\n",
    "\n",
    "\n",
    "#### Typical workflow\n",
    "1. read data as an RDD of text lines.\n",
    "2. split each line into a list of elements.\n",
    "3. parse each element (if needed)\n",
    "4. convert each line into a **_sqlcontext Row_**, i.e. RDD of **_Rows_**\n",
    "5. convert the RDD into a DataFrame\n",
    "\n",
    "\n",
    "##### *Row* is a list of key/value pairs represented as\n",
    "$ [ col_1=value_1, col_2=value_2, ..., col_n = value_n ]$"
   ]
  },
  {
   "cell_type": "markdown",
   "metadata": {},
   "source": [
    "#### Example: Analyzing Web log data"
   ]
  },
  {
   "cell_type": "code",
   "execution_count": 5,
   "metadata": {
    "collapsed": false
   },
   "outputs": [],
   "source": [
    "from pyspark.sql import Row\n",
    "log_file = sc.textFile(\"./data/log_file.txt\")"
   ]
  },
  {
   "cell_type": "code",
   "execution_count": 7,
   "metadata": {
    "collapsed": false
   },
   "outputs": [
    {
     "data": {
      "text/plain": [
       "[['bettong.client.uq.oz.au', '[30:01:46:25]', 'GET /enviro/gif/mail.gif HTTP/1.0', '200', '959'], ['localhost.mpc.wa.gov.au', '[30:02:55:44]', 'GET /logos/us-flag.gif HTTP/1.0', '200', '2788'], ['epsongw3.epson.co.jp', '[30:04:29:45]', 'GET /docs/OCEPAterms/aaad.html HTTP/1.0', '200', '14536'], ['sanipc16.sani.chalmers.se', '[30:02:01:36]', 'GET /logos/us-flag.gif HTTP/1.0', '304', '0'], ['204.62.245.32', '[30:02:14:29]', 'GET /index.html HTTP/1.0', '200', '4889']]"
      ]
     },
     "execution_count": 7,
     "metadata": {},
     "output_type": "execute_result"
    }
   ],
   "source": [
    "import shlex\n",
    "splits = log_file.map(lambda row: shlex.split(row))\n",
    "splits.takeSample(True, 5)"
   ]
  },
  {
   "cell_type": "code",
   "execution_count": 9,
   "metadata": {
    "collapsed": true
   },
   "outputs": [],
   "source": [
    "def create_schema(row):\n",
    "  ip = row[0]\n",
    "  date = row[1].replace('[', '').replace(']', '')\n",
    "  tokens = row[2].split(' ')\n",
    "  protocol = tokens[0]\n",
    "  url = tokens[1].split('?')[0]\n",
    "  status = row[3]\n",
    "  time = None if row[4] == '-' else int(row[4]) \n",
    "  return Row(ip=ip, date=date, protocol=protocol, url=url, status=status, time=time)"
   ]
  },
  {
   "cell_type": "code",
   "execution_count": 10,
   "metadata": {
    "collapsed": false
   },
   "outputs": [],
   "source": [
    "row_data = splits.map(create_schema)\n",
    "from pyspark.sql import SQLContext\n",
    "sqlContext = SQLContext(sc)\n"
   ]
  },
  {
   "cell_type": "code",
   "execution_count": 11,
   "metadata": {
    "collapsed": false
   },
   "outputs": [
    {
     "name": "stdout",
     "output_type": "stream",
     "text": [
      "Row(date=u'29:23:53:25', ip=u'141.243.1.172', protocol=u'GET', status=u'200', time=1497, url=u'/Software.html')\n",
      "Row(date=u'29:23:53:36', ip=u'query2.lycos.cs.cmu.edu', protocol=u'GET', status=u'200', time=1325, url=u'/Consumer.html')\n",
      "Row(date=u'29:23:53:53', ip=u'tanuki.twics.com', protocol=u'GET', status=u'200', time=1014, url=u'/News.html')\n",
      "Row(date=u'29:23:54:15', ip=u'wpbfl2-45.gate.net', protocol=u'GET', status=u'200', time=4889, url=u'/')\n",
      "Row(date=u'29:23:54:16', ip=u'wpbfl2-45.gate.net', protocol=u'GET', status=u'200', time=2624, url=u'/icons/circle_logo_small.gif')\n",
      "Row(date=u'29:23:54:18', ip=u'wpbfl2-45.gate.net', protocol=u'GET', status=u'200', time=935, url=u'/logos/small_gopher.gif')\n",
      "Row(date=u'29:23:54:19', ip=u'140.112.68.165', protocol=u'GET', status=u'200', time=2788, url=u'/logos/us-flag.gif')\n",
      "Row(date=u'29:23:54:19', ip=u'wpbfl2-45.gate.net', protocol=u'GET', status=u'200', time=124, url=u'/logos/small_ftp.gif')\n",
      "Row(date=u'29:23:54:19', ip=u'wpbfl2-45.gate.net', protocol=u'GET', status=u'200', time=156, url=u'/icons/book.gif')\n",
      "Row(date=u'29:23:54:19', ip=u'wpbfl2-45.gate.net', protocol=u'GET', status=u'200', time=2788, url=u'/logos/us-flag.gif')\n"
     ]
    }
   ],
   "source": [
    "schema_DF = sqlContext.createDataFrame(row_data)\n",
    "schema_DF.createOrReplaceTempView('logs')\n",
    "sample = sqlContext.sql('SELECT * FROM logs LIMIT 10').collect()   # returns list\n",
    "for row in sample:\n",
    "    print row"
   ]
  },
  {
   "cell_type": "code",
   "execution_count": 12,
   "metadata": {
    "collapsed": false
   },
   "outputs": [
    {
     "name": "stdout",
     "output_type": "stream",
     "text": [
      "+-----------+--------------------+--------+------+-----+--------------------+\n",
      "|       date|                  ip|protocol|status| time|                 url|\n",
      "+-----------+--------------------+--------+------+-----+--------------------+\n",
      "|29:23:53:25|       141.243.1.172|     GET|   200| 1497|      /Software.html|\n",
      "|29:23:53:36|query2.lycos.cs.c...|     GET|   200| 1325|      /Consumer.html|\n",
      "|29:23:53:53|    tanuki.twics.com|     GET|   200| 1014|          /News.html|\n",
      "|29:23:54:15|  wpbfl2-45.gate.net|     GET|   200| 4889|                   /|\n",
      "|29:23:54:16|  wpbfl2-45.gate.net|     GET|   200| 2624|/icons/circle_log...|\n",
      "|29:23:54:18|  wpbfl2-45.gate.net|     GET|   200|  935|/logos/small_goph...|\n",
      "|29:23:54:19|      140.112.68.165|     GET|   200| 2788|  /logos/us-flag.gif|\n",
      "|29:23:54:19|  wpbfl2-45.gate.net|     GET|   200|  124|/logos/small_ftp.gif|\n",
      "|29:23:54:19|  wpbfl2-45.gate.net|     GET|   200|  156|     /icons/book.gif|\n",
      "|29:23:54:19|  wpbfl2-45.gate.net|     GET|   200| 2788|  /logos/us-flag.gif|\n",
      "|29:23:54:19|    tanuki.twics.com|     GET|   302| null|/docs/OSWRCRA/gen...|\n",
      "|29:23:54:20|  wpbfl2-45.gate.net|     GET|   200|  231|    /icons/ok2-0.gif|\n",
      "|29:23:54:25|    tanuki.twics.com|     GET|   200|  991|/OSWRCRA/general/...|\n",
      "|29:23:54:37|    tanuki.twics.com|     GET|   302| null|/docs/OSWRCRA/gen...|\n",
      "|29:23:54:37|  wpbfl2-45.gate.net|     GET|   200| 4217|/docs/browner/adm...|\n",
      "|29:23:54:40|    tanuki.twics.com|     GET|   200| 1250|/OSWRCRA/general/...|\n",
      "|29:23:55:01|  wpbfl2-45.gate.net|     GET|   200|51661|/docs/browner/cbp...|\n",
      "|29:23:55:21|dd15-032.compuser...|     GET|   200| 4602|/Access/chapter1/...|\n",
      "|29:23:55:23|    tanuki.twics.com|     GET|   200|56431|/docs/OSWRCRA/gen...|\n",
      "|29:23:55:29|  wpbfl2-45.gate.net|     GET|   302| null|        /docs/Access|\n",
      "+-----------+--------------------+--------+------+-----+--------------------+\n",
      "only showing top 20 rows\n",
      "\n"
     ]
    }
   ],
   "source": [
    "schema_DF.show()"
   ]
  },
  {
   "cell_type": "markdown",
   "metadata": {},
   "source": [
    "### Most visited URLs?"
   ]
  },
  {
   "cell_type": "code",
   "execution_count": 15,
   "metadata": {
    "collapsed": false
   },
   "outputs": [
    {
     "name": "stdout",
     "output_type": "stream",
     "text": [
      "+--------------------+------+\n",
      "|                 url|counts|\n",
      "+--------------------+------+\n",
      "|/icons/circle_log...|   128|\n",
      "|                   /|   103|\n",
      "|  /logos/us-flag.gif|    74|\n",
      "|/logos/small_ftp.gif|    74|\n",
      "|     /icons/book.gif|    71|\n",
      "|/logos/small_goph...|    71|\n",
      "|    /icons/ok2-0.gif|    69|\n",
      "|/waisicons/unknow...|    62|\n",
      "|   /cgi-bin/waisgate|    43|\n",
      "|/cgi-bin/waisgate...|    26|\n",
      "+--------------------+------+\n",
      "\n"
     ]
    }
   ],
   "source": [
    "url_access = sqlContext.sql('''SELECT url, count(*) as counts FROM logs GROUP BY url\n",
    "  ORDER BY counts DESC LIMIT 10''')#.collect()\n",
    "\n",
    "url_access.show()\n",
    "#for row in url_access:\n",
    "#    print row\n",
    "    \n"
   ]
  },
  {
   "cell_type": "markdown",
   "metadata": {},
   "source": [
    "### Most frequent visitors?"
   ]
  },
  {
   "cell_type": "code",
   "execution_count": 24,
   "metadata": {
    "collapsed": false
   },
   "outputs": [
    {
     "name": "stdout",
     "output_type": "stream",
     "text": [
      "Row(ip=u'ix-eve-wa2-02.ix.netcom.com', counts=126)\n",
      "Row(ip=u'pm2-3.niia.net', counts=81)\n",
      "Row(ip=u'202.32.50.6', counts=73)\n",
      "Row(ip=u'bettong.client.uq.oz.au', counts=64)\n",
      "Row(ip=u'macn352.riken.go.jp', counts=50)\n",
      "Row(ip=u'sfsp03.slip.net', counts=47)\n",
      "Row(ip=u'h46.s101.wcc.com', counts=46)\n",
      "Row(ip=u'cragateway.cra.com.au', counts=44)\n",
      "Row(ip=u'port11.annex1.naples.net', counts=43)\n",
      "Row(ip=u'hmu4.cs.auckland.ac.nz', counts=39)\n"
     ]
    }
   ],
   "source": [
    "visitors = sqlContext.sql('''SELECT ip, count(*) as counts FROM logs GROUP BY ip\n",
    "  ORDER BY counts DESC LIMIT 10''').collect()\n",
    "for row in visitors:\n",
    "    print row"
   ]
  },
  {
   "cell_type": "code",
   "execution_count": 17,
   "metadata": {
    "collapsed": false
   },
   "outputs": [
    {
     "name": "stdout",
     "output_type": "stream",
     "text": [
      "+--------------------+-----+\n",
      "|                  ip|count|\n",
      "+--------------------+-----+\n",
      "|      pm2-3.niia.net|   19|\n",
      "|hmu4.cs.auckland....|   19|\n",
      "|ix-eve-wa2-02.ix....|   18|\n",
      "|     sfsp03.slip.net|   15|\n",
      "|      168.95.125.161|   14|\n",
      "|     203.251.228.110|   14|\n",
      "|epsongw3.epson.co.jp|   13|\n",
      "|  infoman.cisnet.com|   13|\n",
      "|bettong.client.uq...|   12|\n",
      "|       161.122.12.78|   11|\n",
      "| macn352.riken.go.jp|   10|\n",
      "|port11.annex1.nap...|   10|\n",
      "|nnex02.ppp.uni-ma...|    9|\n",
      "|cnts4p16.uwaterlo...|    9|\n",
      "|    h46.s101.wcc.com|    9|\n",
      "|daddylongleg.euro...|    9|\n",
      "|  ext-ns.dpie.gov.au|    8|\n",
      "|        132.74.12.10|    8|\n",
      "|www-c1.proxy.aol.com|    7|\n",
      "|         202.32.50.6|    7|\n",
      "+--------------------+-----+\n",
      "only showing top 20 rows\n",
      "\n"
     ]
    }
   ],
   "source": [
    "td = schema_DF.select(\"ip\",\"time\").filter(schema_DF.time > 3000).groupBy('ip').count().orderBy('count', ascending=False).show()\n"
   ]
  },
  {
   "cell_type": "code",
   "execution_count": 33,
   "metadata": {
    "collapsed": false
   },
   "outputs": [
    {
     "data": {
      "text/plain": [
       "Name: org.apache.toree.interpreter.broker.BrokerException\n",
       "Message: Traceback (most recent call last):\n",
       "  File \"/var/folders/qy/5hsc8rns55bd4yqn51r9dn7czrp35j/T/kernel-PySpark-56b458e8-56da-4dee-be2f-7cbd9f102dbf/pyspark_runner.py\", line 189, in <module>\n",
       "    eval(compiled_code)\n",
       "  File \"<string>\", line 1, in <module>\n",
       "AttributeError: 'GroupedData' object has no attribute 'collect'\n",
       "\n",
       "StackTrace: org.apache.toree.interpreter.broker.BrokerState$$anonfun$markFailure$1.apply(BrokerState.scala:163)\n",
       "org.apache.toree.interpreter.broker.BrokerState$$anonfun$markFailure$1.apply(BrokerState.scala:163)\n",
       "scala.Option.foreach(Option.scala:257)\n",
       "org.apache.toree.interpreter.broker.BrokerState.markFailure(BrokerState.scala:162)\n",
       "sun.reflect.NativeMethodAccessorImpl.invoke0(Native Method)\n",
       "sun.reflect.NativeMethodAccessorImpl.invoke(NativeMethodAccessorImpl.java:62)\n",
       "sun.reflect.DelegatingMethodAccessorImpl.invoke(DelegatingMethodAccessorImpl.java:43)\n",
       "java.lang.reflect.Method.invoke(Method.java:498)\n",
       "py4j.reflection.MethodInvoker.invoke(MethodInvoker.java:244)\n",
       "py4j.reflection.ReflectionEngine.invoke(ReflectionEngine.java:357)\n",
       "py4j.Gateway.invoke(Gateway.java:280)\n",
       "py4j.commands.AbstractCommand.invokeMethod(AbstractCommand.java:132)\n",
       "py4j.commands.CallCommand.execute(CallCommand.java:79)\n",
       "py4j.GatewayConnection.run(GatewayConnection.java:214)\n",
       "java.lang.Thread.run(Thread.java:745)"
      ]
     },
     "execution_count": 33,
     "metadata": {},
     "output_type": "execute_result"
    }
   ],
   "source": [
    "print td"
   ]
  }
 ],
 "metadata": {
  "kernelspec": {
   "display_name": "Apache Toree - PySpark",
   "language": "python",
   "name": "apache_toree_pyspark"
  },
  "language_info": {
   "file_extension": ".py",
   "name": "python",
   "pygments_lexer": "python",
   "version": "2.7.13\n"
  }
 },
 "nbformat": 4,
 "nbformat_minor": 2
}
